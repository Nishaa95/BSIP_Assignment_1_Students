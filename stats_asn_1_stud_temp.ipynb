{
 "cells": [
  {
   "cell_type": "code",
   "execution_count": 42,
   "metadata": {},
   "outputs": [],
   "source": [
    "import thinkplot\n",
    "import thinkstats2\n",
    "import pandas as pd\n",
    "import numpy as np\n",
    "import scipy\n",
    "import seaborn as sns\n",
    "from matplotlib import pyplot as plt"
   ]
  },
  {
   "cell_type": "markdown",
   "metadata": {},
   "source": [
    "# Assignment #1 - Basic Data Exploration in Python\n",
    "\n",
    "## Assignment Overview\n",
    "\n",
    "In this assignment you'll load some data into a python notebook, and use some basic functions to do some basic analysis. Each section asks you to either calculate some answers or explore some information found in the data. When generating your answers, try to think about a few factors that can make your code better:\n",
    "<ul>\n",
    "<li> Present the answers clearly. Use the markdown cells, code comments, and formatting to help make your answers readable. One of the features of notebooks is that they allow us to combine code and commentary, and we need to ensure both are readable. Refer to the guide in the guides folder of the exercises workbook for an explaination and examples of different formatting. \n",
    "<li> Make your code clear. It is easy to make sense of small pieces of code, for short periods of time, so if your code makes little sense here, it won't really hurt your ability to find the answers. If you need to come back to it later, or others need to edit it, having code that doesn't make sense is a big issue. Use things like clearly named variables, comments, and spacing to make things readable. Even in this course, if you are looking back to something from 2 months ago for the project, it is far easier to understand code that is cleaned up a little. \n",
    "<li> Structure the code well. If there is some kind of repetitive task, it should likely be moved into a function. If there is something that happens several times, it should be in a loop. Having well structured code makes it easy to reuse stuff later, understand how things work, debug errors, and share code with others. This is something to keep in the back of your minds, right now you may not have much experience to lean on to judge how things should be, as you read, adjust, and write code it will become more clear. \n",
    "</ul>\n",
    "\n",
    "## Peer Evaluation\n",
    "\n",
    "This assignemnt will have a peer evaluation for the grade - you'll each read some other notebooks and evaluate their answers. The reason for this is not (entirely) my personal laziness, we are hoping to accomplish a couple of things:\n",
    "<ul>\n",
    "<li> Quick experience reading notebooks. One of the important skills we need to have is the ability to read examples that we find and adapting it to our scenario. This is practice with data you're now comfortable with.\n",
    "<li> Critically evaluating what makes sense in a data notebook. You know how you attempted to explain your look at the data, how did other people do it? What was better? What was worse?\n",
    "<li> Design is subjective. This will give you a set of opinions that are not mine. You will end up with plenty of feedback of what I think, feadback of others early-on should hopefully help you make things appealing to all and not tailored to me. \n",
    "</ul>\n",
    "Doing this right up front will hopefully help kickstart some of that expericence. \n",
    "\n",
    "### Grading\n",
    "\n",
    "The detailed grading is defined in the marking guide in the Moodle workshop. Note that there's points both for getting a correct answer and for presenting it in a way that makes sense. \n",
    "\n",
    "## Structure\n",
    "\n",
    "Each section contains a set of questions/prompts and a rough framework for your responses. You can change the structure around, just make sure it is readable. What I have there is just a loose guide to help get you started, you're not bound to it. "
   ]
  },
  {
   "cell_type": "markdown",
   "metadata": {},
   "source": [
    "## Load Data\n",
    "\n",
    "Load the labor data into a dataframe. You probably don't want to change this section. "
   ]
  },
  {
   "cell_type": "code",
   "execution_count": 21,
   "metadata": {},
   "outputs": [
    {
     "data": {
      "text/html": [
       "<div>\n",
       "<style scoped>\n",
       "    .dataframe tbody tr th:only-of-type {\n",
       "        vertical-align: middle;\n",
       "    }\n",
       "\n",
       "    .dataframe tbody tr th {\n",
       "        vertical-align: top;\n",
       "    }\n",
       "\n",
       "    .dataframe thead th {\n",
       "        text-align: right;\n",
       "    }\n",
       "</style>\n",
       "<table border=\"1\" class=\"dataframe\">\n",
       "  <thead>\n",
       "    <tr style=\"text-align: right;\">\n",
       "      <th></th>\n",
       "      <th>Age</th>\n",
       "      <th>Eduacation</th>\n",
       "      <th>Race</th>\n",
       "      <th>Hisp</th>\n",
       "      <th>MaritalStatus</th>\n",
       "      <th>Nodeg</th>\n",
       "      <th>Earnings_1974</th>\n",
       "      <th>Earnings_1975</th>\n",
       "      <th>Earnings_1978</th>\n",
       "    </tr>\n",
       "  </thead>\n",
       "  <tbody>\n",
       "    <tr>\n",
       "      <th>0</th>\n",
       "      <td>45</td>\n",
       "      <td>LessThanHighSchool</td>\n",
       "      <td>NotBlack</td>\n",
       "      <td>NotHispanic</td>\n",
       "      <td>Married</td>\n",
       "      <td>1</td>\n",
       "      <td>21516.670</td>\n",
       "      <td>25243.550</td>\n",
       "      <td>25564.670</td>\n",
       "    </tr>\n",
       "    <tr>\n",
       "      <th>1</th>\n",
       "      <td>21</td>\n",
       "      <td>Intermediate</td>\n",
       "      <td>NotBlack</td>\n",
       "      <td>NotHispanic</td>\n",
       "      <td>NotMarried</td>\n",
       "      <td>0</td>\n",
       "      <td>3175.971</td>\n",
       "      <td>5852.565</td>\n",
       "      <td>13496.080</td>\n",
       "    </tr>\n",
       "    <tr>\n",
       "      <th>2</th>\n",
       "      <td>38</td>\n",
       "      <td>HighSchool</td>\n",
       "      <td>NotBlack</td>\n",
       "      <td>NotHispanic</td>\n",
       "      <td>Married</td>\n",
       "      <td>0</td>\n",
       "      <td>23039.020</td>\n",
       "      <td>25130.760</td>\n",
       "      <td>25564.670</td>\n",
       "    </tr>\n",
       "    <tr>\n",
       "      <th>3</th>\n",
       "      <td>48</td>\n",
       "      <td>LessThanHighSchool</td>\n",
       "      <td>NotBlack</td>\n",
       "      <td>NotHispanic</td>\n",
       "      <td>Married</td>\n",
       "      <td>1</td>\n",
       "      <td>24994.370</td>\n",
       "      <td>25243.550</td>\n",
       "      <td>25564.670</td>\n",
       "    </tr>\n",
       "    <tr>\n",
       "      <th>4</th>\n",
       "      <td>18</td>\n",
       "      <td>LessThanHighSchool</td>\n",
       "      <td>NotBlack</td>\n",
       "      <td>NotHispanic</td>\n",
       "      <td>Married</td>\n",
       "      <td>1</td>\n",
       "      <td>1669.295</td>\n",
       "      <td>10727.610</td>\n",
       "      <td>9860.869</td>\n",
       "    </tr>\n",
       "  </tbody>\n",
       "</table>\n",
       "</div>"
      ],
      "text/plain": [
       "   Age          Eduacation      Race         Hisp MaritalStatus  Nodeg  \\\n",
       "0   45  LessThanHighSchool  NotBlack  NotHispanic       Married      1   \n",
       "1   21        Intermediate  NotBlack  NotHispanic    NotMarried      0   \n",
       "2   38          HighSchool  NotBlack  NotHispanic       Married      0   \n",
       "3   48  LessThanHighSchool  NotBlack  NotHispanic       Married      1   \n",
       "4   18  LessThanHighSchool  NotBlack  NotHispanic       Married      1   \n",
       "\n",
       "   Earnings_1974  Earnings_1975  Earnings_1978  \n",
       "0      21516.670      25243.550      25564.670  \n",
       "1       3175.971       5852.565      13496.080  \n",
       "2      23039.020      25130.760      25564.670  \n",
       "3      24994.370      25243.550      25564.670  \n",
       "4       1669.295      10727.610       9860.869  "
      ]
     },
     "execution_count": 21,
     "metadata": {},
     "output_type": "execute_result"
    }
   ],
   "source": [
    "#Load/preview data\n",
    "df = pd.read_csv(\"LabourTrainingEvaluationData.csv\")\n",
    "df.head()"
   ]
  },
  {
   "cell_type": "code",
   "execution_count": 22,
   "metadata": {},
   "outputs": [
    {
     "data": {
      "text/html": [
       "<div>\n",
       "<style scoped>\n",
       "    .dataframe tbody tr th:only-of-type {\n",
       "        vertical-align: middle;\n",
       "    }\n",
       "\n",
       "    .dataframe tbody tr th {\n",
       "        vertical-align: top;\n",
       "    }\n",
       "\n",
       "    .dataframe thead th {\n",
       "        text-align: right;\n",
       "    }\n",
       "</style>\n",
       "<table border=\"1\" class=\"dataframe\">\n",
       "  <thead>\n",
       "    <tr style=\"text-align: right;\">\n",
       "      <th></th>\n",
       "      <th>Age</th>\n",
       "      <th>Nodeg</th>\n",
       "      <th>Earnings_1974</th>\n",
       "      <th>Earnings_1975</th>\n",
       "      <th>Earnings_1978</th>\n",
       "    </tr>\n",
       "  </thead>\n",
       "  <tbody>\n",
       "    <tr>\n",
       "      <th>count</th>\n",
       "      <td>15992.000000</td>\n",
       "      <td>15992.000000</td>\n",
       "      <td>15992.000000</td>\n",
       "      <td>15992.000000</td>\n",
       "      <td>15992.000000</td>\n",
       "    </tr>\n",
       "    <tr>\n",
       "      <th>mean</th>\n",
       "      <td>33.225238</td>\n",
       "      <td>0.295835</td>\n",
       "      <td>14016.800304</td>\n",
       "      <td>13650.803376</td>\n",
       "      <td>14846.659673</td>\n",
       "    </tr>\n",
       "    <tr>\n",
       "      <th>std</th>\n",
       "      <td>11.045216</td>\n",
       "      <td>0.456432</td>\n",
       "      <td>9569.795893</td>\n",
       "      <td>9270.403225</td>\n",
       "      <td>9647.391524</td>\n",
       "    </tr>\n",
       "    <tr>\n",
       "      <th>min</th>\n",
       "      <td>16.000000</td>\n",
       "      <td>0.000000</td>\n",
       "      <td>0.000000</td>\n",
       "      <td>0.000000</td>\n",
       "      <td>0.000000</td>\n",
       "    </tr>\n",
       "    <tr>\n",
       "      <th>25%</th>\n",
       "      <td>24.000000</td>\n",
       "      <td>0.000000</td>\n",
       "      <td>4403.452250</td>\n",
       "      <td>4398.823000</td>\n",
       "      <td>5669.298000</td>\n",
       "    </tr>\n",
       "    <tr>\n",
       "      <th>50%</th>\n",
       "      <td>31.000000</td>\n",
       "      <td>0.000000</td>\n",
       "      <td>15123.580000</td>\n",
       "      <td>14557.110000</td>\n",
       "      <td>16421.975000</td>\n",
       "    </tr>\n",
       "    <tr>\n",
       "      <th>75%</th>\n",
       "      <td>42.000000</td>\n",
       "      <td>1.000000</td>\n",
       "      <td>23584.180000</td>\n",
       "      <td>22923.737500</td>\n",
       "      <td>25564.670000</td>\n",
       "    </tr>\n",
       "    <tr>\n",
       "      <th>max</th>\n",
       "      <td>55.000000</td>\n",
       "      <td>1.000000</td>\n",
       "      <td>25862.320000</td>\n",
       "      <td>25243.550000</td>\n",
       "      <td>25564.670000</td>\n",
       "    </tr>\n",
       "  </tbody>\n",
       "</table>\n",
       "</div>"
      ],
      "text/plain": [
       "                Age         Nodeg  Earnings_1974  Earnings_1975  Earnings_1978\n",
       "count  15992.000000  15992.000000   15992.000000   15992.000000   15992.000000\n",
       "mean      33.225238      0.295835   14016.800304   13650.803376   14846.659673\n",
       "std       11.045216      0.456432    9569.795893    9270.403225    9647.391524\n",
       "min       16.000000      0.000000       0.000000       0.000000       0.000000\n",
       "25%       24.000000      0.000000    4403.452250    4398.823000    5669.298000\n",
       "50%       31.000000      0.000000   15123.580000   14557.110000   16421.975000\n",
       "75%       42.000000      1.000000   23584.180000   22923.737500   25564.670000\n",
       "max       55.000000      1.000000   25862.320000   25243.550000   25564.670000"
      ]
     },
     "execution_count": 22,
     "metadata": {},
     "output_type": "execute_result"
    }
   ],
   "source": [
    "df.describe()"
   ]
  },
  {
   "cell_type": "markdown",
   "metadata": {},
   "source": [
    "## Part 1 - Age\n",
    "\n",
    "<ol>\n",
    "<li> Make and plot a Hist and Pmf for age.\n",
    "<li> What fraction of the people in the data are 51? What fraction are older than 51?\n",
    "<li> What is the median age? \n",
    "<li> Does the distribution of the sample data seem to mirror the working age population?\n",
    "</ol>"
   ]
  },
  {
   "cell_type": "markdown",
   "metadata": {},
   "source": [
    "#### Make and plot a Hist and Pmf for age."
   ]
  },
  {
   "cell_type": "code",
   "execution_count": 23,
   "metadata": {},
   "outputs": [
    {
     "data": {
      "text/plain": [
       "0        45\n",
       "1        21\n",
       "2        38\n",
       "3        48\n",
       "4        18\n",
       "         ..\n",
       "15987    22\n",
       "15988    20\n",
       "15989    37\n",
       "15990    47\n",
       "15991    40\n",
       "Name: Age, Length: 15992, dtype: int64"
      ]
     },
     "execution_count": 23,
     "metadata": {},
     "output_type": "execute_result"
    }
   ],
   "source": [
    "df[\"Age\"]"
   ]
  },
  {
   "cell_type": "code",
   "execution_count": 24,
   "metadata": {},
   "outputs": [
    {
     "data": {
      "text/plain": [
       "Hist({29: 660, 28: 649, 27: 584, 26: 583, 25: 547, 24: 523, 21: 505, 23: 503, 18: 476, 22: 470, 32: 470, 30: 467, 19: 465, 31: 458, 33: 454, 20: 454, 34: 426, 17: 395, 35: 386, 36: 363, 38: 346, 16: 338, 37: 336, 39: 323, 51: 314, 40: 312, 41: 312, 47: 310, 45: 310, 42: 309, 55: 307, 50: 306, 48: 303, 53: 300, 49: 297, 52: 294, 46: 293, 44: 290, 43: 284, 54: 270}, 'Age')"
      ]
     },
     "execution_count": 24,
     "metadata": {},
     "output_type": "execute_result"
    }
   ],
   "source": [
    "#Generating Histogram Objects\n",
    "\n",
    "hist_age = thinkstats2.Hist(df[\"Age\"], label=\"Age\")\n",
    "hist_age"
   ]
  },
  {
   "cell_type": "code",
   "execution_count": 25,
   "metadata": {},
   "outputs": [
    {
     "data": {
      "image/png": "[encoded data removed]",
      "text/plain": [
       "<Figure size 640x480 with 1 Axes>"
      ]
     },
     "metadata": {},
     "output_type": "display_data"
    }
   ],
   "source": [
    "# Plotting Histogram\n",
    "\n",
    "from cProfile import label\n",
    "\n",
    "\n",
    "thinkplot.Hist(hist_age)\n",
    "thinkplot.config(xlabel =\"Age\", ylabel =\"Count\")"
   ]
  },
  {
   "cell_type": "code",
   "execution_count": 26,
   "metadata": {},
   "outputs": [
    {
     "data": {
      "text/plain": [
       "Pmf({29: 0.04127063531765883, 28: 0.04058279139569784, 27: 0.03651825912956478, 26: 0.03645572786393196, 25: 0.03420460230115057, 24: 0.03270385192596298, 21: 0.03157828914457229, 23: 0.03145322661330665, 18: 0.029764882441220608, 22: 0.02938969484742371, 32: 0.02938969484742371, 30: 0.029202101050525262, 19: 0.029077038519259628, 31: 0.028639319659829913, 33: 0.028389194597298648, 20: 0.028389194597298648, 34: 0.026638319159579787, 17: 0.02469984992496248, 35: 0.02413706853426713, 36: 0.022698849424712356, 38: 0.021635817908954476, 16: 0.021135567783891945, 37: 0.02101050525262631, 39: 0.0201975987993997, 51: 0.01963481740870435, 40: 0.01950975487743872, 41: 0.01950975487743872, 47: 0.019384692346173085, 45: 0.019384692346173085, 42: 0.01932216108054027, 55: 0.019197098549274635, 50: 0.01913456728364182, 48: 0.01894697348674337, 53: 0.01875937968984492, 49: 0.01857178589294647, 52: 0.018384192096048024, 46: 0.018321660830415205, 44: 0.018134067033516756, 43: 0.01775887943971986, 54: 0.01688344172086043})"
      ]
     },
     "execution_count": 26,
     "metadata": {},
     "output_type": "execute_result"
    }
   ],
   "source": [
    "# Create Pmfs\n",
    "\n",
    "pmf_age= thinkstats2.Pmf(df[\"Age\"])\n",
    "pmf_age\n",
    "\n"
   ]
  },
  {
   "cell_type": "code",
   "execution_count": 27,
   "metadata": {},
   "outputs": [
    {
     "data": {
      "image/png": "[encoded data removed]",
      "text/plain": [
       "<Figure size 640x480 with 1 Axes>"
      ]
     },
     "metadata": {},
     "output_type": "display_data"
    },
    {
     "data": {
      "text/plain": [
       "<Figure size 800x600 with 0 Axes>"
      ]
     },
     "metadata": {},
     "output_type": "display_data"
    }
   ],
   "source": [
    "#Plotting pmf\n",
    "\n",
    "thinkplot.Pmf((pmf_age))\n",
    "thinkplot.show(xlabel=\"Age\")"
   ]
  },
  {
   "cell_type": "markdown",
   "metadata": {},
   "source": [
    "#### What fraction of the people in the data are 51? What fraction are older than 51?"
   ]
  },
  {
   "cell_type": "markdown",
   "metadata": {},
   "source": [
    "Fraction of people who are 51"
   ]
  },
  {
   "cell_type": "code",
   "execution_count": null,
   "metadata": {},
   "outputs": [
    {
     "name": "stdout",
     "output_type": "stream",
     "text": [
      "Percenage of people who are 51: 1.96 %\n"
     ]
    }
   ],
   "source": [
    "#Using pmf\n",
    "\n",
    "age_low = thinkstats2.Pmf(df[\"Age\"] == 51)[True]\n",
    "print(\"Percenage of people who are 51:\" , round(age_low*100, 2),\"%\")\n"
   ]
  },
  {
   "cell_type": "markdown",
   "metadata": {},
   "source": [
    "Fraction of people who are older than 51"
   ]
  },
  {
   "cell_type": "code",
   "execution_count": null,
   "metadata": {},
   "outputs": [
    {
     "name": "stdout",
     "output_type": "stream",
     "text": [
      "Percenage of people who are more than 51: 7.32 %\n"
     ]
    }
   ],
   "source": [
    "#Using cdf\n",
    "\n",
    "cdf_age= thinkstats2.Cdf(df[\"Age\"])\n",
    "age_high = 100 - cdf_age.PercentileRank(51)\n",
    "print(\"Percenage of people who are more than 51:\" , round(age_high, 2),\"%\")"
   ]
  },
  {
   "cell_type": "markdown",
   "metadata": {},
   "source": [
    "##### What is the median age?"
   ]
  },
  {
   "cell_type": "code",
   "execution_count": null,
   "metadata": {},
   "outputs": [
    {
     "name": "stdout",
     "output_type": "stream",
     "text": [
      "Median Age: 31.0\n"
     ]
    }
   ],
   "source": [
    "median_age = df[\"Age\"].median()\n",
    "print(\"Median Age:\" ,median_age)"
   ]
  },
  {
   "cell_type": "markdown",
   "metadata": {},
   "source": [
    "##### Does the distribution of the sample data seem to mirror the working age population?"
   ]
  },
  {
   "cell_type": "markdown",
   "metadata": {},
   "source": [
    "As per the distribution of sample data, age ranges from 19 to 54 which represents the working age population."
   ]
  },
  {
   "cell_type": "markdown",
   "metadata": {},
   "source": [
    "### Part 2 - Demographics\n",
    "\n",
    "<ul>\n",
    "<li>Consider some of the demographic features: \n",
    "    <ul>\n",
    "    <li>Education\n",
    "    <li>Race\n",
    "    <li>Hisp\n",
    "    <li>MaritalStatus\n",
    "    <li>Nodeg. \n",
    "    </ul>\n",
    "</ul>\n",
    "<ol>\n",
    "<li>This data came from the United States, does it appear to be a representative sample of the US population?\n",
    "<li>Demonstrate this in some way in your code. \n",
    "</ol>\n",
    "\n",
    "##### Exploring the data..."
   ]
  },
  {
   "cell_type": "code",
   "execution_count": null,
   "metadata": {},
   "outputs": [
    {
     "data": {
      "text/plain": [
       "HighSchool            6252\n",
       "Intermediate          2708\n",
       "LessThanHighSchool    4731\n",
       "PostGraduate           934\n",
       "graduate              1367\n",
       "Name: Eduacation, dtype: int64"
      ]
     },
     "execution_count": 71,
     "metadata": {},
     "output_type": "execute_result"
    }
   ],
   "source": [
    "df[\"Eduacation\"].value_counts().sort_index()"
   ]
  },
  {
   "cell_type": "code",
   "execution_count": null,
   "metadata": {},
   "outputs": [
    {
     "data": {
      "text/plain": [
       "NotBlack    14816\n",
       "black        1176\n",
       "Name: Race, dtype: int64"
      ]
     },
     "execution_count": 72,
     "metadata": {},
     "output_type": "execute_result"
    }
   ],
   "source": [
    "df[\"Race\"].value_counts()"
   ]
  },
  {
   "cell_type": "code",
   "execution_count": null,
   "metadata": {},
   "outputs": [
    {
     "data": {
      "text/plain": [
       "NotHispanic    14840\n",
       "hispanic        1152\n",
       "Name: Hisp, dtype: int64"
      ]
     },
     "execution_count": 73,
     "metadata": {},
     "output_type": "execute_result"
    }
   ],
   "source": [
    "df[\"Hisp\"].value_counts()"
   ]
  },
  {
   "cell_type": "code",
   "execution_count": null,
   "metadata": {},
   "outputs": [
    {
     "data": {
      "image/png": "[encoded data removed]",
      "text/plain": [
       "<Figure size 640x480 with 1 Axes>"
      ]
     },
     "metadata": {},
     "output_type": "display_data"
    }
   ],
   "source": [
    "hist_Race = thinkstats2.Hist(df[\"Race\"], label=\"Race\")\n",
    "thinkplot.Hist(hist_Race)\n",
    "thinkplot.config(xlabel =\"Race\", ylabel =\"Count\")"
   ]
  },
  {
   "cell_type": "code",
   "execution_count": null,
   "metadata": {},
   "outputs": [
    {
     "ename": "ValueError",
     "evalue": "could not convert string to float: ''",
     "output_type": "error",
     "traceback": [
      "\u001b[1;31m---------------------------------------------------------------------------\u001b[0m",
      "\u001b[1;31mValueError\u001b[0m                                Traceback (most recent call last)",
      "\u001b[1;32m~\\AppData\\Local\\Temp\\ipykernel_3424\\1732982909.py\u001b[0m in \u001b[0;36m<module>\u001b[1;34m\u001b[0m\n\u001b[0;32m      1\u001b[0m \u001b[0mcdf_race\u001b[0m \u001b[1;33m=\u001b[0m \u001b[0mthinkstats2\u001b[0m\u001b[1;33m.\u001b[0m\u001b[0mCdf\u001b[0m\u001b[1;33m(\u001b[0m\u001b[0mstr\u001b[0m\u001b[1;33m(\u001b[0m\u001b[0mdf\u001b[0m\u001b[1;33m[\u001b[0m\u001b[1;34m\"Race\"\u001b[0m\u001b[1;33m]\u001b[0m\u001b[1;33m)\u001b[0m\u001b[1;33m)\u001b[0m\u001b[1;33m\u001b[0m\u001b[1;33m\u001b[0m\u001b[0m\n\u001b[1;32m----> 2\u001b[1;33m \u001b[0mthinkplot\u001b[0m\u001b[1;33m.\u001b[0m\u001b[0mCdf\u001b[0m\u001b[1;33m(\u001b[0m\u001b[1;33m(\u001b[0m\u001b[0mcdf_race\u001b[0m\u001b[1;33m)\u001b[0m\u001b[1;33m)\u001b[0m\u001b[1;33m\u001b[0m\u001b[1;33m\u001b[0m\u001b[0m\n\u001b[0m\u001b[0;32m      3\u001b[0m \u001b[0mthinkplot\u001b[0m\u001b[1;33m.\u001b[0m\u001b[0mshow\u001b[0m\u001b[1;33m(\u001b[0m\u001b[0mxlabel\u001b[0m\u001b[1;33m=\u001b[0m\u001b[1;34m\"Race\"\u001b[0m\u001b[1;33m)\u001b[0m\u001b[1;33m\u001b[0m\u001b[1;33m\u001b[0m\u001b[0m\n",
      "\u001b[1;32mc:\\Users\\nisha\\OneDrive\\Documents\\NAIT\\3450\\Repo\\BSIP_Assignment_1_Students\\thinkplot.py\u001b[0m in \u001b[0;36mCdf\u001b[1;34m(cdf, complement, transform, **options)\u001b[0m\n\u001b[0;32m    534\u001b[0m       \u001b[0mConfig\u001b[0m\u001b[1;33m,\u001b[0m \u001b[0mShow\u001b[0m \u001b[1;32mor\u001b[0m \u001b[0mSave\u001b[0m\u001b[1;33m.\u001b[0m\u001b[1;33m\u001b[0m\u001b[1;33m\u001b[0m\u001b[0m\n\u001b[0;32m    535\u001b[0m     \"\"\"\n\u001b[1;32m--> 536\u001b[1;33m     \u001b[0mxs\u001b[0m\u001b[1;33m,\u001b[0m \u001b[0mps\u001b[0m \u001b[1;33m=\u001b[0m \u001b[0mcdf\u001b[0m\u001b[1;33m.\u001b[0m\u001b[0mRender\u001b[0m\u001b[1;33m(\u001b[0m\u001b[1;33m)\u001b[0m\u001b[1;33m\u001b[0m\u001b[1;33m\u001b[0m\u001b[0m\n\u001b[0m\u001b[0;32m    537\u001b[0m     \u001b[0mxs\u001b[0m \u001b[1;33m=\u001b[0m \u001b[0mnp\u001b[0m\u001b[1;33m.\u001b[0m\u001b[0masarray\u001b[0m\u001b[1;33m(\u001b[0m\u001b[0mxs\u001b[0m\u001b[1;33m)\u001b[0m\u001b[1;33m\u001b[0m\u001b[1;33m\u001b[0m\u001b[0m\n\u001b[0;32m    538\u001b[0m     \u001b[0mps\u001b[0m \u001b[1;33m=\u001b[0m \u001b[0mnp\u001b[0m\u001b[1;33m.\u001b[0m\u001b[0masarray\u001b[0m\u001b[1;33m(\u001b[0m\u001b[0mps\u001b[0m\u001b[1;33m)\u001b[0m\u001b[1;33m\u001b[0m\u001b[1;33m\u001b[0m\u001b[0m\n",
      "\u001b[1;32mc:\\Users\\nisha\\OneDrive\\Documents\\NAIT\\3450\\Repo\\BSIP_Assignment_1_Students\\thinkstats2.py\u001b[0m in \u001b[0;36mRender\u001b[1;34m(self, **options)\u001b[0m\n\u001b[0;32m   1300\u001b[0m \u001b[1;33m\u001b[0m\u001b[0m\n\u001b[0;32m   1301\u001b[0m         \u001b[0ma\u001b[0m \u001b[1;33m=\u001b[0m \u001b[0mnp\u001b[0m\u001b[1;33m.\u001b[0m\u001b[0marray\u001b[0m\u001b[1;33m(\u001b[0m\u001b[0mself\u001b[0m\u001b[1;33m.\u001b[0m\u001b[0mxs\u001b[0m\u001b[1;33m)\u001b[0m\u001b[1;33m\u001b[0m\u001b[1;33m\u001b[0m\u001b[0m\n\u001b[1;32m-> 1302\u001b[1;33m         \u001b[0mxs\u001b[0m \u001b[1;33m=\u001b[0m \u001b[0minterleave\u001b[0m\u001b[1;33m(\u001b[0m\u001b[0ma\u001b[0m\u001b[1;33m,\u001b[0m \u001b[0ma\u001b[0m\u001b[1;33m)\u001b[0m\u001b[1;33m\u001b[0m\u001b[1;33m\u001b[0m\u001b[0m\n\u001b[0m\u001b[0;32m   1303\u001b[0m         \u001b[0mshift_ps\u001b[0m \u001b[1;33m=\u001b[0m \u001b[0mnp\u001b[0m\u001b[1;33m.\u001b[0m\u001b[0mroll\u001b[0m\u001b[1;33m(\u001b[0m\u001b[0mself\u001b[0m\u001b[1;33m.\u001b[0m\u001b[0mps\u001b[0m\u001b[1;33m,\u001b[0m \u001b[1;36m1\u001b[0m\u001b[1;33m)\u001b[0m\u001b[1;33m\u001b[0m\u001b[1;33m\u001b[0m\u001b[0m\n\u001b[0;32m   1304\u001b[0m         \u001b[0mshift_ps\u001b[0m\u001b[1;33m[\u001b[0m\u001b[1;36m0\u001b[0m\u001b[1;33m]\u001b[0m \u001b[1;33m=\u001b[0m \u001b[1;36m0\u001b[0m\u001b[1;33m\u001b[0m\u001b[1;33m\u001b[0m\u001b[0m\n",
      "\u001b[1;32mc:\\Users\\nisha\\OneDrive\\Documents\\NAIT\\3450\\Repo\\BSIP_Assignment_1_Students\\thinkstats2.py\u001b[0m in \u001b[0;36minterleave\u001b[1;34m(a, b)\u001b[0m\n\u001b[0;32m   1295\u001b[0m         \u001b[1;32mdef\u001b[0m \u001b[0minterleave\u001b[0m\u001b[1;33m(\u001b[0m\u001b[0ma\u001b[0m\u001b[1;33m,\u001b[0m \u001b[0mb\u001b[0m\u001b[1;33m)\u001b[0m\u001b[1;33m:\u001b[0m\u001b[1;33m\u001b[0m\u001b[1;33m\u001b[0m\u001b[0m\n\u001b[0;32m   1296\u001b[0m             \u001b[0mc\u001b[0m \u001b[1;33m=\u001b[0m \u001b[0mnp\u001b[0m\u001b[1;33m.\u001b[0m\u001b[0mempty\u001b[0m\u001b[1;33m(\u001b[0m\u001b[0ma\u001b[0m\u001b[1;33m.\u001b[0m\u001b[0mshape\u001b[0m\u001b[1;33m[\u001b[0m\u001b[1;36m0\u001b[0m\u001b[1;33m]\u001b[0m \u001b[1;33m+\u001b[0m \u001b[0mb\u001b[0m\u001b[1;33m.\u001b[0m\u001b[0mshape\u001b[0m\u001b[1;33m[\u001b[0m\u001b[1;36m0\u001b[0m\u001b[1;33m]\u001b[0m\u001b[1;33m)\u001b[0m\u001b[1;33m\u001b[0m\u001b[1;33m\u001b[0m\u001b[0m\n\u001b[1;32m-> 1297\u001b[1;33m             \u001b[0mc\u001b[0m\u001b[1;33m[\u001b[0m\u001b[1;33m:\u001b[0m\u001b[1;33m:\u001b[0m\u001b[1;36m2\u001b[0m\u001b[1;33m]\u001b[0m \u001b[1;33m=\u001b[0m \u001b[0ma\u001b[0m\u001b[1;33m\u001b[0m\u001b[1;33m\u001b[0m\u001b[0m\n\u001b[0m\u001b[0;32m   1298\u001b[0m             \u001b[0mc\u001b[0m\u001b[1;33m[\u001b[0m\u001b[1;36m1\u001b[0m\u001b[1;33m:\u001b[0m\u001b[1;33m:\u001b[0m\u001b[1;36m2\u001b[0m\u001b[1;33m]\u001b[0m \u001b[1;33m=\u001b[0m \u001b[0mb\u001b[0m\u001b[1;33m\u001b[0m\u001b[1;33m\u001b[0m\u001b[0m\n\u001b[0;32m   1299\u001b[0m             \u001b[1;32mreturn\u001b[0m \u001b[0mc\u001b[0m\u001b[1;33m\u001b[0m\u001b[1;33m\u001b[0m\u001b[0m\n",
      "\u001b[1;31mValueError\u001b[0m: could not convert string to float: ''"
     ]
    }
   ],
   "source": [
    "cdf_race = thinkstats2.Cdf(df[\"Race\"])\n",
    "thinkplot.Cdf((cdf_race))\n",
    "thinkplot.show(xlabel=\"Race\")"
   ]
  },
  {
   "cell_type": "code",
   "execution_count": null,
   "metadata": {},
   "outputs": [
    {
     "data": {
      "text/plain": [
       "Married       11382\n",
       "NotMarried     4610\n",
       "Name: MaritalStatus, dtype: int64"
      ]
     },
     "execution_count": 74,
     "metadata": {},
     "output_type": "execute_result"
    }
   ],
   "source": [
    "df[\"MaritalStatus\"].value_counts()"
   ]
  },
  {
   "cell_type": "code",
   "execution_count": null,
   "metadata": {},
   "outputs": [
    {
     "data": {
      "text/plain": [
       "0    11261\n",
       "1     4731\n",
       "Name: Nodeg, dtype: int64"
      ]
     },
     "execution_count": 75,
     "metadata": {},
     "output_type": "execute_result"
    }
   ],
   "source": [
    "df[\"Nodeg\"].value_counts()"
   ]
  },
  {
   "cell_type": "markdown",
   "metadata": {},
   "source": [
    "##### Demographic Conclusion\n"
   ]
  },
  {
   "cell_type": "markdown",
   "metadata": {},
   "source": [
    "### Part 3 - Earnings\n",
    "\n",
    "<ol>\n",
    "<li>Make and plot a graph or graph of your choosing of the 3 earnings values, in order to answer the below question. Identify how the graph gave you your answer.\n",
    "    <ul>\n",
    "    <li>What is one conclusion could you draw from visualizing of the earnings in the different year? Please express it in plain language/non-statistics terms/as though you were explaining to one of your friends what happened to earnings between 1974 and 1978?\n",
    "    </ul>\n",
    "<li>Which has the greatest effect size on 1978 earnings: Race, Hispanic, MaritalStatus, or Nodeg? \n",
    "    <ul>\n",
    "    <li>What could you investigate further in an attempt to explain this?\n",
    "    </ul>\n",
    "<li>Plot a histogram and PMF, and compute useful descriptive statistics (think: average...) for the 1978 earnings value. Use the \"Cohorts\" code from the quiz to break the data into cohorts, plotting each group (either on one chart, or separately, whichever makes the most sense for examining the data - state specifically why you chose 1 vs many charts.\n",
    "    <ul>\n",
    "    <li>What is the difference in median income between the groups?\n",
    "    <li>Theorize a reason for the difference between the groups that could be explained with more data. Briefly describe the data you'd need. This does not need to be something you have data for, or know how to solve right now - just one well founded hypothesis on what might explain the difference.\n",
    "    </ul>\n",
    "<li>Are there outliers in the 1978 earnings data? Demonstrate this in some way with your code. \n",
    "    <ul>\n",
    "    <li>What can you infer from the presence of outliers that may impact analysis of this data.\n",
    "    </ul>\n",
    "</ol>"
   ]
  },
  {
   "cell_type": "markdown",
   "metadata": {},
   "source": [
    "##### Plot Earnings Data"
   ]
  },
  {
   "cell_type": "code",
   "execution_count": null,
   "metadata": {},
   "outputs": [
    {
     "data": {
      "image/png": "[encoded data removed]",
      "text/plain": [
       "<Figure size 640x480 with 1 Axes>"
      ]
     },
     "metadata": {},
     "output_type": "display_data"
    },
    {
     "data": {
      "text/plain": [
       "<Figure size 800x600 with 0 Axes>"
      ]
     },
     "metadata": {},
     "output_type": "display_data"
    }
   ],
   "source": [
    "cdf_1974 = thinkstats2.Cdf(round(df[\"Earnings_1974\"],2))\n",
    "thinkplot.Cdf((cdf_1974))\n",
    "thinkplot.show(xlabel=\"Earnings_1974\")"
   ]
  },
  {
   "cell_type": "code",
   "execution_count": null,
   "metadata": {},
   "outputs": [
    {
     "data": {
      "image/png": "[encoded data removed]",
      "text/plain": [
       "<Figure size 640x480 with 1 Axes>"
      ]
     },
     "metadata": {},
     "output_type": "display_data"
    },
    {
     "data": {
      "text/plain": [
       "<Figure size 800x600 with 0 Axes>"
      ]
     },
     "metadata": {},
     "output_type": "display_data"
    }
   ],
   "source": [
    "cdf_1975 = thinkstats2.Cdf(round(df[\"Earnings_1975\"],2))\n",
    "thinkplot.Cdf((cdf_1975))\n",
    "thinkplot.show(xlabel=\"Earnings_1975\")"
   ]
  },
  {
   "cell_type": "code",
   "execution_count": null,
   "metadata": {},
   "outputs": [
    {
     "data": {
      "image/png": "[encoded data removed]",
      "text/plain": [
       "<Figure size 640x480 with 1 Axes>"
      ]
     },
     "metadata": {},
     "output_type": "display_data"
    },
    {
     "data": {
      "text/plain": [
       "<Figure size 800x600 with 0 Axes>"
      ]
     },
     "metadata": {},
     "output_type": "display_data"
    }
   ],
   "source": [
    "cdf_1978 = thinkstats2.Cdf(round(df[\"Earnings_1978\"],2))\n",
    "thinkplot.Cdf((cdf_1978))\n",
    "thinkplot.show(xlabel=\"Earnings_1978\")\n"
   ]
  },
  {
   "cell_type": "code",
   "execution_count": null,
   "metadata": {},
   "outputs": [
    {
     "name": "stdout",
     "output_type": "stream",
     "text": [
      "14016.800304191169\n",
      "14846.659672906011\n"
     ]
    }
   ],
   "source": [
    "print(df[\"Earnings_1974\"].mean())\n",
    "print(df[\"Earnings_1978\"].mean())\n"
   ]
  },
  {
   "cell_type": "markdown",
   "metadata": {},
   "source": [
    "As a conclusion, there seems to be a large jump in the number of people earning near the top end, around $25k. Otherwise the distributions are pretty similar between earnings of 1974 and 1978. The avergae earnings of 1974 and 1974 is around $14k to $15k."
   ]
  },
  {
   "cell_type": "markdown",
   "metadata": {},
   "source": [
    "##### What to Investigate Further\n"
   ]
  },
  {
   "cell_type": "markdown",
   "metadata": {},
   "source": [
    "##### Histogram and PMF"
   ]
  },
  {
   "cell_type": "code",
   "execution_count": null,
   "metadata": {},
   "outputs": [],
   "source": [
    "#Create a hist, pmf, and stats for 1987 Earnings\n",
    "#Note: if you don't round or otherwise create bins, the thinkstats plots for this will be weird\n",
    "#That's because there are very few values that are the same, e.g. $14762.34, $15672.86, etc... \n",
    "#Every cent is a different value. \n",
    "#Seaborn plots will probably look better by default. "
   ]
  },
  {
   "cell_type": "code",
   "execution_count": null,
   "metadata": {},
   "outputs": [
    {
     "data": {
      "image/png": "[encoded data removed]",
      "text/plain": [
       "<Figure size 640x480 with 1 Axes>"
      ]
     },
     "metadata": {},
     "output_type": "display_data"
    }
   ],
   "source": [
    "hist_1978 = thinkstats2.Hist(round(df[\"Earnings_1978\"],-3), label=\"earnings_1978\")\n",
    "thinkplot.Hist(hist_1978)\n",
    "thinkplot.config(xlabel=\"Earnings_1974\", ylabel=\"count\")"
   ]
  },
  {
   "cell_type": "code",
   "execution_count": null,
   "metadata": {},
   "outputs": [
    {
     "data": {
      "text/plain": [
       "NotBlack    14816\n",
       "black        1176\n",
       "Name: Race, dtype: int64"
      ]
     },
     "execution_count": 69,
     "metadata": {},
     "output_type": "execute_result"
    }
   ],
   "source": [
    "df[\"Race\"].value_counts()"
   ]
  },
  {
   "cell_type": "code",
   "execution_count": 34,
   "metadata": {},
   "outputs": [
    {
     "name": "stdout",
     "output_type": "stream",
     "text": [
      "15072.07899151205\n",
      "12006.68295142261\n"
     ]
    }
   ],
   "source": [
    "notBlack = df[df[\"Race\"] == \"NotBlack\"]\n",
    "black = df[df[\"Race\"] == \"black\"]\n",
    "print(notBlack[\"Earnings_1978\"].mean())\n",
    "print(black[\"Earnings_1978\"].mean())"
   ]
  },
  {
   "cell_type": "code",
   "execution_count": 35,
   "metadata": {},
   "outputs": [
    {
     "data": {
      "text/plain": [
       "NotHispanic    14840\n",
       "hispanic        1152\n",
       "Name: Hisp, dtype: int64"
      ]
     },
     "execution_count": 35,
     "metadata": {},
     "output_type": "execute_result"
    }
   ],
   "source": [
    "df[\"Hisp\"].value_counts()"
   ]
  },
  {
   "cell_type": "code",
   "execution_count": 36,
   "metadata": {},
   "outputs": [
    {
     "name": "stdout",
     "output_type": "stream",
     "text": [
      "14959.218905804977\n",
      "13396.677887994774\n"
     ]
    }
   ],
   "source": [
    "notHisp = df[df[\"Hisp\"] == \"NotHispanic\"]\n",
    "hisp= df[df[\"Hisp\"]==\"hispanic\"]\n",
    "print(notHisp[\"Earnings_1978\"].mean())\n",
    "print(hisp[\"Earnings_1978\"].mean())\n",
    "\n"
   ]
  },
  {
   "cell_type": "code",
   "execution_count": 37,
   "metadata": {},
   "outputs": [
    {
     "data": {
      "text/plain": [
       "Married       11382\n",
       "NotMarried     4610\n",
       "Name: MaritalStatus, dtype: int64"
      ]
     },
     "execution_count": 37,
     "metadata": {},
     "output_type": "execute_result"
    }
   ],
   "source": [
    "df[\"MaritalStatus\"].value_counts()"
   ]
  },
  {
   "cell_type": "code",
   "execution_count": 38,
   "metadata": {},
   "outputs": [
    {
     "name": "stdout",
     "output_type": "stream",
     "text": [
      "11033.720549714462\n",
      "16390.997167012894\n"
     ]
    }
   ],
   "source": [
    "notmarried = df[df[\"MaritalStatus\"] == \"NotMarried\"]\n",
    "married= df[df[\"MaritalStatus\"]==\"Married\"]\n",
    "print(notmarried[\"Earnings_1978\"].mean())\n",
    "print(married[\"Earnings_1978\"].mean())"
   ]
  },
  {
   "cell_type": "code",
   "execution_count": 40,
   "metadata": {},
   "outputs": [
    {
     "data": {
      "text/plain": [
       "0    11261\n",
       "1     4731\n",
       "Name: Nodeg, dtype: int64"
      ]
     },
     "execution_count": 40,
     "metadata": {},
     "output_type": "execute_result"
    }
   ],
   "source": [
    "df[\"Nodeg\"].value_counts()"
   ]
  },
  {
   "cell_type": "code",
   "execution_count": 41,
   "metadata": {},
   "outputs": [
    {
     "name": "stdout",
     "output_type": "stream",
     "text": [
      "15796.747484376683\n",
      "12585.205679044797\n"
     ]
    }
   ],
   "source": [
    "nodeg = df[df[\"Nodeg\"] != 1]\n",
    "deg = df[df[\"Nodeg\"]== 1]\n",
    "print(nodeg[\"Earnings_1978\"].mean())\n",
    "print(deg[\"Earnings_1978\"].mean())"
   ]
  },
  {
   "cell_type": "code",
   "execution_count": 43,
   "metadata": {},
   "outputs": [],
   "source": [
    "def CohenEffectSize(group1, group2):\n",
    "    \"\"\"Computes Cohen's effect size for two groups.\n",
    "    \n",
    "    group1: Series or DataFrame\n",
    "    group2: Series or DataFrame\n",
    "    \n",
    "    returns: float if the arguments are Series;\n",
    "             Series if the arguments are DataFrames\n",
    "    \"\"\"\n",
    "    diff = group1.mean() - group2.mean()\n",
    "\n",
    "    var1 = group1.var()\n",
    "    var2 = group2.var()\n",
    "    n1, n2 = len(group1), len(group2)\n",
    "\n",
    "    pooled_var = (n1 * var1 + n2 * var2) / (n1 + n2)\n",
    "    d = diff / np.sqrt(pooled_var)\n",
    "    return d"
   ]
  },
  {
   "cell_type": "code",
   "execution_count": 45,
   "metadata": {},
   "outputs": [
    {
     "data": {
      "text/plain": [
       "0.3367928897615812"
      ]
     },
     "execution_count": 45,
     "metadata": {},
     "output_type": "execute_result"
    }
   ],
   "source": [
    "CohenEffectSize(nodeg[\"Earnings_1978\"], deg[\"Earnings_1978\"])"
   ]
  },
  {
   "cell_type": "code",
   "execution_count": 50,
   "metadata": {},
   "outputs": [
    {
     "data": {
      "text/plain": [
       "0.5737396692403472"
      ]
     },
     "execution_count": 50,
     "metadata": {},
     "output_type": "execute_result"
    }
   ],
   "source": [
    "CohenEffectSize(married[\"Earnings_1978\"],notmarried[\"Earnings_1978\"])"
   ]
  },
  {
   "cell_type": "code",
   "execution_count": 48,
   "metadata": {},
   "outputs": [
    {
     "data": {
      "text/plain": [
       "0.16210284395555566"
      ]
     },
     "execution_count": 48,
     "metadata": {},
     "output_type": "execute_result"
    }
   ],
   "source": [
    "CohenEffectSize(notHisp[\"Earnings_1978\"],hisp[\"Earnings_1978\"])"
   ]
  },
  {
   "cell_type": "code",
   "execution_count": 49,
   "metadata": {},
   "outputs": [
    {
     "data": {
      "text/plain": [
       "0.31883255859070525"
      ]
     },
     "execution_count": 49,
     "metadata": {},
     "output_type": "execute_result"
    }
   ],
   "source": [
    "CohenEffectSize(notBlack[\"Earnings_1978\"],black[\"Earnings_1978\"])"
   ]
  },
  {
   "cell_type": "markdown",
   "metadata": {},
   "source": [
    "##### Differences in Median Income, and Theory on Why\n"
   ]
  },
  {
   "cell_type": "markdown",
   "metadata": {},
   "source": [
    "##### Outliers"
   ]
  },
  {
   "cell_type": "code",
   "execution_count": null,
   "metadata": {},
   "outputs": [],
   "source": []
  },
  {
   "cell_type": "code",
   "execution_count": null,
   "metadata": {},
   "outputs": [
    {
     "data": {
      "text/plain": [
       "<AxesSubplot:>"
      ]
     },
     "execution_count": 84,
     "metadata": {},
     "output_type": "execute_result"
    },
    {
     "data": {
      "image/png": "[encoded data removed]",
      "text/plain": [
       "<Figure size 640x480 with 2 Axes>"
      ]
     },
     "metadata": {},
     "output_type": "display_data"
    }
   ],
   "source": [
    "sns.heatmap(df.corr(),annot=True)"
   ]
  },
  {
   "cell_type": "code",
   "execution_count": 11,
   "metadata": {},
   "outputs": [
    {
     "data": {
      "text/html": [
       "<div>\n",
       "<style scoped>\n",
       "    .dataframe tbody tr th:only-of-type {\n",
       "        vertical-align: middle;\n",
       "    }\n",
       "\n",
       "    .dataframe tbody tr th {\n",
       "        vertical-align: top;\n",
       "    }\n",
       "\n",
       "    .dataframe thead th {\n",
       "        text-align: right;\n",
       "    }\n",
       "</style>\n",
       "<table border=\"1\" class=\"dataframe\">\n",
       "  <thead>\n",
       "    <tr style=\"text-align: right;\">\n",
       "      <th></th>\n",
       "      <th>Age</th>\n",
       "      <th>Nodeg</th>\n",
       "      <th>Earnings_1974</th>\n",
       "      <th>Earnings_1975</th>\n",
       "      <th>Earnings_1978</th>\n",
       "      <th>Eduacation_HighSchool</th>\n",
       "      <th>Eduacation_Intermediate</th>\n",
       "      <th>Eduacation_LessThanHighSchool</th>\n",
       "      <th>Eduacation_PostGraduate</th>\n",
       "      <th>Eduacation_graduate</th>\n",
       "      <th>Race_NotBlack</th>\n",
       "      <th>Race_black</th>\n",
       "      <th>Hisp_NotHispanic</th>\n",
       "      <th>Hisp_hispanic</th>\n",
       "      <th>MaritalStatus_Married</th>\n",
       "      <th>MaritalStatus_NotMarried</th>\n",
       "    </tr>\n",
       "  </thead>\n",
       "  <tbody>\n",
       "    <tr>\n",
       "      <th>0</th>\n",
       "      <td>45</td>\n",
       "      <td>1</td>\n",
       "      <td>21516.670</td>\n",
       "      <td>25243.550</td>\n",
       "      <td>25564.670</td>\n",
       "      <td>0</td>\n",
       "      <td>0</td>\n",
       "      <td>1</td>\n",
       "      <td>0</td>\n",
       "      <td>0</td>\n",
       "      <td>1</td>\n",
       "      <td>0</td>\n",
       "      <td>1</td>\n",
       "      <td>0</td>\n",
       "      <td>1</td>\n",
       "      <td>0</td>\n",
       "    </tr>\n",
       "    <tr>\n",
       "      <th>1</th>\n",
       "      <td>21</td>\n",
       "      <td>0</td>\n",
       "      <td>3175.971</td>\n",
       "      <td>5852.565</td>\n",
       "      <td>13496.080</td>\n",
       "      <td>0</td>\n",
       "      <td>1</td>\n",
       "      <td>0</td>\n",
       "      <td>0</td>\n",
       "      <td>0</td>\n",
       "      <td>1</td>\n",
       "      <td>0</td>\n",
       "      <td>1</td>\n",
       "      <td>0</td>\n",
       "      <td>0</td>\n",
       "      <td>1</td>\n",
       "    </tr>\n",
       "    <tr>\n",
       "      <th>2</th>\n",
       "      <td>38</td>\n",
       "      <td>0</td>\n",
       "      <td>23039.020</td>\n",
       "      <td>25130.760</td>\n",
       "      <td>25564.670</td>\n",
       "      <td>1</td>\n",
       "      <td>0</td>\n",
       "      <td>0</td>\n",
       "      <td>0</td>\n",
       "      <td>0</td>\n",
       "      <td>1</td>\n",
       "      <td>0</td>\n",
       "      <td>1</td>\n",
       "      <td>0</td>\n",
       "      <td>1</td>\n",
       "      <td>0</td>\n",
       "    </tr>\n",
       "    <tr>\n",
       "      <th>3</th>\n",
       "      <td>48</td>\n",
       "      <td>1</td>\n",
       "      <td>24994.370</td>\n",
       "      <td>25243.550</td>\n",
       "      <td>25564.670</td>\n",
       "      <td>0</td>\n",
       "      <td>0</td>\n",
       "      <td>1</td>\n",
       "      <td>0</td>\n",
       "      <td>0</td>\n",
       "      <td>1</td>\n",
       "      <td>0</td>\n",
       "      <td>1</td>\n",
       "      <td>0</td>\n",
       "      <td>1</td>\n",
       "      <td>0</td>\n",
       "    </tr>\n",
       "    <tr>\n",
       "      <th>4</th>\n",
       "      <td>18</td>\n",
       "      <td>1</td>\n",
       "      <td>1669.295</td>\n",
       "      <td>10727.610</td>\n",
       "      <td>9860.869</td>\n",
       "      <td>0</td>\n",
       "      <td>0</td>\n",
       "      <td>1</td>\n",
       "      <td>0</td>\n",
       "      <td>0</td>\n",
       "      <td>1</td>\n",
       "      <td>0</td>\n",
       "      <td>1</td>\n",
       "      <td>0</td>\n",
       "      <td>1</td>\n",
       "      <td>0</td>\n",
       "    </tr>\n",
       "    <tr>\n",
       "      <th>...</th>\n",
       "      <td>...</td>\n",
       "      <td>...</td>\n",
       "      <td>...</td>\n",
       "      <td>...</td>\n",
       "      <td>...</td>\n",
       "      <td>...</td>\n",
       "      <td>...</td>\n",
       "      <td>...</td>\n",
       "      <td>...</td>\n",
       "      <td>...</td>\n",
       "      <td>...</td>\n",
       "      <td>...</td>\n",
       "      <td>...</td>\n",
       "      <td>...</td>\n",
       "      <td>...</td>\n",
       "      <td>...</td>\n",
       "    </tr>\n",
       "    <tr>\n",
       "      <th>15987</th>\n",
       "      <td>22</td>\n",
       "      <td>0</td>\n",
       "      <td>3975.352</td>\n",
       "      <td>6801.435</td>\n",
       "      <td>2757.438</td>\n",
       "      <td>1</td>\n",
       "      <td>0</td>\n",
       "      <td>0</td>\n",
       "      <td>0</td>\n",
       "      <td>0</td>\n",
       "      <td>0</td>\n",
       "      <td>1</td>\n",
       "      <td>1</td>\n",
       "      <td>0</td>\n",
       "      <td>0</td>\n",
       "      <td>1</td>\n",
       "    </tr>\n",
       "    <tr>\n",
       "      <th>15988</th>\n",
       "      <td>20</td>\n",
       "      <td>0</td>\n",
       "      <td>1445.939</td>\n",
       "      <td>11832.240</td>\n",
       "      <td>6895.072</td>\n",
       "      <td>1</td>\n",
       "      <td>0</td>\n",
       "      <td>0</td>\n",
       "      <td>0</td>\n",
       "      <td>0</td>\n",
       "      <td>0</td>\n",
       "      <td>1</td>\n",
       "      <td>1</td>\n",
       "      <td>0</td>\n",
       "      <td>1</td>\n",
       "      <td>0</td>\n",
       "    </tr>\n",
       "    <tr>\n",
       "      <th>15989</th>\n",
       "      <td>37</td>\n",
       "      <td>0</td>\n",
       "      <td>1733.951</td>\n",
       "      <td>1559.371</td>\n",
       "      <td>4221.865</td>\n",
       "      <td>1</td>\n",
       "      <td>0</td>\n",
       "      <td>0</td>\n",
       "      <td>0</td>\n",
       "      <td>0</td>\n",
       "      <td>1</td>\n",
       "      <td>0</td>\n",
       "      <td>1</td>\n",
       "      <td>0</td>\n",
       "      <td>0</td>\n",
       "      <td>1</td>\n",
       "    </tr>\n",
       "    <tr>\n",
       "      <th>15990</th>\n",
       "      <td>47</td>\n",
       "      <td>1</td>\n",
       "      <td>16914.350</td>\n",
       "      <td>11384.660</td>\n",
       "      <td>13671.930</td>\n",
       "      <td>0</td>\n",
       "      <td>0</td>\n",
       "      <td>1</td>\n",
       "      <td>0</td>\n",
       "      <td>0</td>\n",
       "      <td>1</td>\n",
       "      <td>0</td>\n",
       "      <td>1</td>\n",
       "      <td>0</td>\n",
       "      <td>1</td>\n",
       "      <td>0</td>\n",
       "    </tr>\n",
       "    <tr>\n",
       "      <th>15991</th>\n",
       "      <td>40</td>\n",
       "      <td>1</td>\n",
       "      <td>13628.660</td>\n",
       "      <td>13144.550</td>\n",
       "      <td>7979.724</td>\n",
       "      <td>0</td>\n",
       "      <td>0</td>\n",
       "      <td>1</td>\n",
       "      <td>0</td>\n",
       "      <td>0</td>\n",
       "      <td>1</td>\n",
       "      <td>0</td>\n",
       "      <td>1</td>\n",
       "      <td>0</td>\n",
       "      <td>0</td>\n",
       "      <td>1</td>\n",
       "    </tr>\n",
       "  </tbody>\n",
       "</table>\n",
       "<p>15992 rows × 16 columns</p>\n",
       "</div>"
      ],
      "text/plain": [
       "       Age  Nodeg  Earnings_1974  Earnings_1975  Earnings_1978  \\\n",
       "0       45      1      21516.670      25243.550      25564.670   \n",
       "1       21      0       3175.971       5852.565      13496.080   \n",
       "2       38      0      23039.020      25130.760      25564.670   \n",
       "3       48      1      24994.370      25243.550      25564.670   \n",
       "4       18      1       1669.295      10727.610       9860.869   \n",
       "...    ...    ...            ...            ...            ...   \n",
       "15987   22      0       3975.352       6801.435       2757.438   \n",
       "15988   20      0       1445.939      11832.240       6895.072   \n",
       "15989   37      0       1733.951       1559.371       4221.865   \n",
       "15990   47      1      16914.350      11384.660      13671.930   \n",
       "15991   40      1      13628.660      13144.550       7979.724   \n",
       "\n",
       "       Eduacation_HighSchool  Eduacation_Intermediate  \\\n",
       "0                          0                        0   \n",
       "1                          0                        1   \n",
       "2                          1                        0   \n",
       "3                          0                        0   \n",
       "4                          0                        0   \n",
       "...                      ...                      ...   \n",
       "15987                      1                        0   \n",
       "15988                      1                        0   \n",
       "15989                      1                        0   \n",
       "15990                      0                        0   \n",
       "15991                      0                        0   \n",
       "\n",
       "       Eduacation_LessThanHighSchool  Eduacation_PostGraduate  \\\n",
       "0                                  1                        0   \n",
       "1                                  0                        0   \n",
       "2                                  0                        0   \n",
       "3                                  1                        0   \n",
       "4                                  1                        0   \n",
       "...                              ...                      ...   \n",
       "15987                              0                        0   \n",
       "15988                              0                        0   \n",
       "15989                              0                        0   \n",
       "15990                              1                        0   \n",
       "15991                              1                        0   \n",
       "\n",
       "       Eduacation_graduate  Race_NotBlack  Race_black  Hisp_NotHispanic  \\\n",
       "0                        0              1           0                 1   \n",
       "1                        0              1           0                 1   \n",
       "2                        0              1           0                 1   \n",
       "3                        0              1           0                 1   \n",
       "4                        0              1           0                 1   \n",
       "...                    ...            ...         ...               ...   \n",
       "15987                    0              0           1                 1   \n",
       "15988                    0              0           1                 1   \n",
       "15989                    0              1           0                 1   \n",
       "15990                    0              1           0                 1   \n",
       "15991                    0              1           0                 1   \n",
       "\n",
       "       Hisp_hispanic  MaritalStatus_Married  MaritalStatus_NotMarried  \n",
       "0                  0                      1                         0  \n",
       "1                  0                      0                         1  \n",
       "2                  0                      1                         0  \n",
       "3                  0                      1                         0  \n",
       "4                  0                      1                         0  \n",
       "...              ...                    ...                       ...  \n",
       "15987              0                      0                         1  \n",
       "15988              0                      1                         0  \n",
       "15989              0                      0                         1  \n",
       "15990              0                      1                         0  \n",
       "15991              0                      0                         1  \n",
       "\n",
       "[15992 rows x 16 columns]"
      ]
     },
     "execution_count": 11,
     "metadata": {},
     "output_type": "execute_result"
    }
   ],
   "source": [
    "pd.get_dummies(df)"
   ]
  },
  {
   "cell_type": "code",
   "execution_count": 13,
   "metadata": {},
   "outputs": [
    {
     "data": {
      "text/plain": [
       "<AxesSubplot:>"
      ]
     },
     "execution_count": 13,
     "metadata": {},
     "output_type": "execute_result"
    },
    {
     "data": {
      "image/png": "[encoded data removed]",
      "text/plain": [
       "<Figure size 640x480 with 2 Axes>"
      ]
     },
     "metadata": {},
     "output_type": "display_data"
    }
   ],
   "source": [
    "pd.get_dummies(df)\n",
    "sns.heatmap(df.corr(),annot=True)"
   ]
  },
  {
   "cell_type": "markdown",
   "metadata": {},
   "source": [
    "##### Outlier Conclusions\n"
   ]
  }
 ],
 "metadata": {
  "kernelspec": {
   "display_name": "Python 3.9.12 ('base')",
   "language": "python",
   "name": "python3"
  },
  "language_info": {
   "codemirror_mode": {
    "name": "ipython",
    "version": 3
   },
   "file_extension": ".py",
   "mimetype": "text/x-python",
   "name": "python",
   "nbconvert_exporter": "python",
   "pygments_lexer": "ipython3",
   "version": "3.9.12"
  },
  "orig_nbformat": 4,
  "vscode": {
   "interpreter": {
    "hash": "23558032b00ee6b68473e6823c75ce9d636029f112ff94112151df65d8686c23"
   }
  }
 },
 "nbformat": 4,
 "nbformat_minor": 2
}
